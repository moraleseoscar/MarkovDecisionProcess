{
 "cells": [
  {
   "cell_type": "code",
   "execution_count": 3,
   "metadata": {},
   "outputs": [],
   "source": [
    "import numpy as np\n",
    "import random\n",
    "\n",
    "# Definición de los componentes del MDP\n",
    "states = list(range(9))\n",
    "actions = ['arriba', 'abajo', 'izquierda', 'derecha']\n",
    "process = False\n",
    "\n",
    "# Definición de la matriz de transición P\n",
    "P = {\n",
    "    0: {'arriba': {0: 1.0}, 'abajo': {3: 1.0}, 'izquierda': {0: 1.0}, 'derecha': {1: 1.0}},\n",
    "    1: {'arriba': {1: 1.0}, 'abajo': {4: 1.0}, 'izquierda': {0: 1.0}, 'derecha': {2: 1.0}},\n",
    "    2: {'arriba': {2: 1.0}, 'abajo': {5: 1.0}, 'izquierda': {1: 1.0}, 'derecha': {2: 1.0}},\n",
    "    3: {'arriba': {0: 1.0}, 'abajo': {6: 1.0}, 'izquierda': {3: 1.0}, 'derecha': {4: 1.0}},\n",
    "    4: {'arriba': {1: 1.0}, 'abajo': {7: 1.0}, 'izquierda': {3: 1.0}, 'derecha': {5: 1.0}},\n",
    "    5: {'arriba': {2: 1.0}, 'abajo': {8: 1.0}, 'izquierda': {4: 1.0}, 'derecha': {5: 1.0}},\n",
    "    6: {'arriba': {3: 1.0}, 'abajo': {6: 1.0}, 'izquierda': {6: 1.0}, 'derecha': {7: 1.0}},\n",
    "    7: {'arriba': {4: 1.0}, 'abajo': {7: 1.0}, 'izquierda': {6: 1.0}, 'derecha': {8: 1.0}},\n",
    "    8: {'arriba': {5: 1.0}, 'abajo': {8: 1.0}, 'izquierda': {7: 1.0}, 'derecha': {8: 1.0}},\n",
    "}\n",
    "\n",
    "# Definición de la función de recompensa R\n",
    "R = {\n",
    "    0: {'arriba': {0: 0}, 'abajo': {3: 0}, 'izquierda': {0: 0}, 'derecha': {1: 0}},\n",
    "    1: {'arriba': {1: 0}, 'abajo': {4: -1}, 'izquierda': {0: 0}, 'derecha': {2: -1}},\n",
    "    2: {'arriba': {2: 0}, 'abajo': {5: 0}, 'izquierda': {1: 0}, 'derecha': {2: 0}},\n",
    "    3: {'arriba': {0: 0}, 'abajo': {6: 0}, 'izquierda': {3: 0}, 'derecha': {4: -1}},\n",
    "    4: {'arriba': {1: 0}, 'abajo': {7: 0}, 'izquierda': {3: 0}, 'derecha': {5: 0}},\n",
    "    5: {'arriba': {2: -1}, 'abajo': {8: 1}, 'izquierda': {4: -1}, 'derecha': {5: 0}},\n",
    "    6: {'arriba': {3: 0}, 'abajo': {6: 0}, 'izquierda': {6: 0}, 'derecha': {7: 0}},\n",
    "    7: {'arriba': {4: -1}, 'abajo': {7: 0}, 'izquierda': {6: 0}, 'derecha': {8: -1}},\n",
    "    8: {'arriba': {5: 0}, 'abajo': {8: 0}, 'izquierda': {7: 0}, 'derecha': {8: 0}},\n",
    "}\n",
    "\n",
    "# Nueva política π\n",
    "policy = {\n",
    "    0: 'derecha',     \n",
    "    1: 'derecha',     \n",
    "    2: 'abajo', \n",
    "    3: 'arriba',\n",
    "    4: 'abajo',\n",
    "    5: 'izquierda',    \n",
    "    6: 'arriba',\n",
    "    7: 'izquierda',    \n",
    "    8: 'izquierda'  \n",
    "}"
   ]
  },
  {
   "cell_type": "code",
   "execution_count": 4,
   "metadata": {},
   "outputs": [],
   "source": [
    "# Función para mostrar el estado actual del laberinto\n",
    "def watch_process(state):\n",
    "    laberinto = ['S', ' ', 'G', ' ', 'X', ' ', ' ', ' ', 'X']\n",
    "    laberinto[state] = 'B'\n",
    "    for i in range(0, 9, 3):\n",
    "        print(laberinto[i:i+3])\n",
    "    print()\n",
    "\n",
    "# Función para simular la política en el MDP\n",
    "def simulate_policy(policy, P, R, start_state, steps):\n",
    "    current_state = start_state\n",
    "    total_reward = 0\n",
    "    for _ in range(steps):\n",
    "        if process: watch_process(current_state)\n",
    "        action = policy[current_state]\n",
    "        if process: print(f\"Acción tomada: {action}\")\n",
    "        next_state_probabilities = P[current_state][action]\n",
    "        next_state = random.choices(list(next_state_probabilities.keys()), list(next_state_probabilities.values()))[0]\n",
    "        reward = R[current_state][action][next_state]\n",
    "        total_reward += reward\n",
    "        current_state = next_state\n",
    "        if current_state == 8:\n",
    "            if process: watch_process(current_state)\n",
    "            break\n",
    "    return total_reward\n",
    "\n",
    "# Función para evaluar la política\n",
    "def evaluate_policy(policy, P, R, start_state, steps, simulations):\n",
    "    total_rewards = []\n",
    "    for _ in range(simulations):\n",
    "        total_rewards.append(simulate_policy(policy, P, R, start_state, steps))\n",
    "    average_reward = np.mean(total_rewards)\n",
    "    return average_reward"
   ]
  },
  {
   "cell_type": "code",
   "execution_count": 5,
   "metadata": {},
   "outputs": [
    {
     "name": "stdout",
     "output_type": "stream",
     "text": [
      "Recompensa acumulada promedio: -3.0\n"
     ]
    }
   ],
   "source": [
    "# Configuración inicial y evaluación\n",
    "start_state = 0\n",
    "steps = 11\n",
    "simulations = 1000  # Cambiar esto a 1000 para evaluación promedio\n",
    "\n",
    "average_reward = evaluate_policy(policy, P, R, start_state, steps, simulations)\n",
    "print(f\"Recompensa acumulada promedio: {average_reward}\")"
   ]
  },
  {
   "cell_type": "code",
   "execution_count": null,
   "metadata": {},
   "outputs": [],
   "source": []
  }
 ],
 "metadata": {
  "kernelspec": {
   "display_name": "Python 3",
   "language": "python",
   "name": "python3"
  },
  "language_info": {
   "codemirror_mode": {
    "name": "ipython",
    "version": 3
   },
   "file_extension": ".py",
   "mimetype": "text/x-python",
   "name": "python",
   "nbconvert_exporter": "python",
   "pygments_lexer": "ipython3",
   "version": "3.11.9"
  }
 },
 "nbformat": 4,
 "nbformat_minor": 2
}
