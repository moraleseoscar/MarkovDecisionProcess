{
 "cells": [
  {
   "cell_type": "code",
   "execution_count": 5,
   "metadata": {},
   "outputs": [],
   "source": [
    "import numpy as np\n",
    "import random\n",
    "\n",
    "# Definición de los componentes del MDP\n",
    "states = list(range(9))\n",
    "actions = ['arriba', 'abajo', 'izquierda', 'derecha']\n",
    "process = False\n",
    "\n",
    "# Ajuste de la matriz de transición P\n",
    "P = {\n",
    "    0: {'arriba': {0: 1.0}, 'abajo': {3: 1.0}, 'izquierda': {0: 1.0}, 'derecha': {1: 1.0}},\n",
    "    1: {'arriba': {1: 1.0}, 'abajo': {1: 1.0}, 'izquierda': {0: 1.0}, 'derecha': {1: 1.0}},\n",
    "    2: {'arriba': {2: 1.0}, 'abajo': {2: 1.0}, 'izquierda': {2: 1.0}, 'derecha': {2: 1.0}},\n",
    "    3: {'arriba': {0: 1.0}, 'abajo': {6: 1.0}, 'izquierda': {3: 1.0}, 'derecha': {3: 1.0}},\n",
    "    4: {'arriba': {4: 1.0}, 'abajo': {4: 1.0}, 'izquierda': {4: 1.0}, 'derecha': {4: 1.0}},\n",
    "    5: {'arriba': {5: 1.0}, 'abajo': {8: 1.0}, 'izquierda': {5: 1.0}, 'derecha': {5: 1.0}},\n",
    "    6: {'arriba': {3: 1.0}, 'abajo': {6: 1.0}, 'izquierda': {6: 1.0}, 'derecha': {7: 1.0}},\n",
    "    7: {'arriba': {7: 1.0}, 'abajo': {7: 1.0}, 'izquierda': {6: 1.0}, 'derecha': {8: 1.0}},\n",
    "    8: {'arriba': {8: 1.0}, 'abajo': {8: 1.0}, 'izquierda': {8: 1.0}, 'derecha': {8: 1.0}},\n",
    "}\n",
    "\n",
    "# Ajuste de la función de recompensa R\n",
    "R = {\n",
    "    0: {'arriba': {0: 0}, 'abajo': {3: 0}, 'izquierda': {0: 0}, 'derecha': {1: 0}},\n",
    "    1: {'arriba': {1: 0}, 'abajo': {1: -1}, 'izquierda': {0: 0}, 'derecha': {1: -1}},\n",
    "    2: {'arriba': {2: 0}, 'abajo': {2: 0}, 'izquierda': {2: 0}, 'derecha': {2: 0}},\n",
    "    3: {'arriba': {0: 0}, 'abajo': {6: 0}, 'izquierda': {3: 0}, 'derecha': {3: 0}},\n",
    "    4: {'arriba': {4: 0}, 'abajo': {4: 0}, 'izquierda': {4: 0}, 'derecha': {4: 0}},\n",
    "    5: {'arriba': {5: -1}, 'abajo': {8: 1}, 'izquierda': {5: -1}, 'derecha': {5: 0}},\n",
    "    6: {'arriba': {3: 0}, 'abajo': {6: 0}, 'izquierda': {6: 0}, 'derecha': {7: 0}},\n",
    "    7: {'arriba': {7: 0}, 'abajo': {7: 0}, 'izquierda': {6: 0}, 'derecha': {8: 1}},\n",
    "    8: {'arriba': {8: 0}, 'abajo': {8: 0}, 'izquierda': {8: 0}, 'derecha': {8: 0}},\n",
    "}\n",
    "\n",
    "# Inicializar función de valor\n",
    "V = np.zeros(len(states))\n",
    "\n",
    "# Parámetros de iteración de valor\n",
    "gamma = 0.9\n",
    "theta = 0.001"
   ]
  },
  {
   "cell_type": "code",
   "execution_count": 9,
   "metadata": {},
   "outputs": [],
   "source": [
    "# Algoritmo de iteración de valor\n",
    "def value_iteration(P, R, gamma, theta):\n",
    "    V = np.zeros(len(states))\n",
    "    while True:\n",
    "        delta = 0\n",
    "        for s in states:\n",
    "            v = V[s]\n",
    "            V[s] = max(sum(P[s][a][s_prime] * (R[s][a][s_prime] + gamma * V[s_prime]) for s_prime in P[s][a]) for a in actions)\n",
    "            delta = max(delta, abs(v - V[s]))\n",
    "        if delta < theta:\n",
    "            break\n",
    "    return V\n",
    "\n",
    "# Extraer la política óptima\n",
    "def extract_policy(P, R, V, gamma):\n",
    "    policy = {}\n",
    "    for s in states:\n",
    "        policy[s] = max(actions, key=lambda a: sum(P[s][a][s_prime] * (R[s][a][s_prime] + gamma * V[s_prime]) for s_prime in P[s][a]))\n",
    "    return policy\n"
   ]
  },
  {
   "cell_type": "code",
   "execution_count": 10,
   "metadata": {},
   "outputs": [
    {
     "name": "stdout",
     "output_type": "stream",
     "text": [
      "Función de valor óptimo (Iteración de Valor):\n",
      "[0.729  0.6561 0.     0.81   0.     1.     0.9    1.     0.    ]\n",
      "Política óptima (Iteración de Valor):\n",
      "{0: 'abajo', 1: 'izquierda', 2: 'arriba', 3: 'abajo', 4: 'arriba', 5: 'abajo', 6: 'derecha', 7: 'derecha', 8: 'arriba'}\n"
     ]
    }
   ],
   "source": [
    "# Ejecutar iteración de valor\n",
    "optimal_V = value_iteration(P, R, gamma, theta)\n",
    "optimal_policy = extract_policy(P, R, optimal_V, gamma)\n",
    "\n",
    "print(f\"Función de valor óptimo (Iteración de Valor):\\n{optimal_V}\")\n",
    "print(f\"Política óptima (Iteración de Valor):\\n{optimal_policy}\")"
   ]
  },
  {
   "cell_type": "code",
   "execution_count": null,
   "metadata": {},
   "outputs": [],
   "source": []
  }
 ],
 "metadata": {
  "kernelspec": {
   "display_name": "Python 3",
   "language": "python",
   "name": "python3"
  },
  "language_info": {
   "codemirror_mode": {
    "name": "ipython",
    "version": 3
   },
   "file_extension": ".py",
   "mimetype": "text/x-python",
   "name": "python",
   "nbconvert_exporter": "python",
   "pygments_lexer": "ipython3",
   "version": "3.11.9"
  }
 },
 "nbformat": 4,
 "nbformat_minor": 2
}
